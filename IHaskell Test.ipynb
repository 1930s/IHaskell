{
 "metadata": {
  "name": ""
 },
 "nbformat": 3,
 "nbformat_minor": 0,
 "worksheets": [
  {
   "cells": [
    {
     "cell_type": "code",
     "collapsed": false,
     "input": [
      "data Value = X Int\n",
      "           | Y String\n",
      "           | Z Float\n",
      "           deriving Show\n",
      "            \n",
      "let values = [X 20,\n",
      "              Y \"Test\",\n",
      "              Z 0.5]\n",
      "mapM_ print values"
     ],
     "language": "python",
     "metadata": {},
     "outputs": [
      {
       "metadata": {},
       "output_type": "pyout",
       "prompt_number": 1,
       "text": [
        "X 20\n",
        "Y \"Test\"\n",
        "Z 0.5\n"
       ]
      },
      {
       "metadata": {},
       "output_type": "display_data"
      }
     ],
     "prompt_number": 1
    },
    {
     "cell_type": "code",
     "collapsed": false,
     "input": [
      "import Control.Applicative\n",
      "\n",
      "print $ (+) <$> Just 3 <*> Just 10"
     ],
     "language": "python",
     "metadata": {},
     "outputs": [
      {
       "metadata": {},
       "output_type": "pyout",
       "prompt_number": 2,
       "text": [
        "Just 13\n"
       ]
      },
      {
       "metadata": {},
       "output_type": "display_data"
      }
     ],
     "prompt_number": 2
    },
    {
     "cell_type": "code",
     "collapsed": false,
     "input": [
      "import Control.Monad\n",
      "forM [1, 2, 3, 4] $ \\x -> do\n",
      "  print (x * x)\n",
      "  return (-x)"
     ],
     "language": "python",
     "metadata": {},
     "outputs": [
      {
       "metadata": {},
       "output_type": "pyout",
       "prompt_number": 3,
       "text": []
      },
      {
       "html": [
        "<span style='color: red; font-style: italic;'>Not in scope: `file_var_1345964344725219474'\n",
        "Perhaps you meant `file_var_1345964344725219474_old' (line 1)\n",
        "</span>"
       ],
       "metadata": {},
       "output_type": "display_data"
      }
     ],
     "prompt_number": 3
    },
    {
     "cell_type": "code",
     "collapsed": false,
     "input": [
      "fact 3"
     ],
     "language": "python",
     "metadata": {},
     "outputs": [
      {
       "metadata": {},
       "output_type": "pyout",
       "prompt_number": 2,
       "text": []
      },
      {
       "html": [
        "<span style='color: red; font-style: italic;'>Not in scope: `fact'\n",
        "</span>"
       ],
       "metadata": {},
       "output_type": "display_data"
      }
     ],
     "prompt_number": 2
    },
    {
     "cell_type": "code",
     "collapsed": false,
     "input": [],
     "language": "python",
     "metadata": {},
     "outputs": []
    }
   ],
   "metadata": {}
  }
 ]
}