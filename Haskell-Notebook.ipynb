{
 "metadata": {
  "language": "haskell",
  "name": ""
 },
 "nbformat": 3,
 "nbformat_minor": 0,
 "worksheets": [
  {
   "cells": [
    {
     "cell_type": "code",
     "collapsed": false,
     "input": [
      "data Value = X Int\n",
      "           | Y String\n",
      "           | Z Float\n",
      "           deriving Show\n",
      "            \n",
      "let values = [X 20,\n",
      "              Y \"Test\",\n",
      "              Z 0.5]\n",
      "mapM_ print values"
     ],
     "language": "python",
     "metadata": {},
     "outputs": [
      {
       "metadata": {},
       "output_type": "pyout",
       "prompt_number": 1,
       "text": [
        "X 20\n",
        "Y \"Test\"\n",
        "Z 0.5\n"
       ]
      },
      {
       "metadata": {},
       "output_type": "display_data"
      }
     ],
     "prompt_number": 1
    },
    {
     "cell_type": "code",
     "collapsed": false,
     "input": [
      "import Control.Appldaicative\n",
      "print\n",
      "print $ (+) <$> Just 3 <*> Just 10"
     ],
     "language": "python",
     "metadata": {},
     "outputs": [
      {
       "html": [
        "<span style='color: red; font-style: italic;'>Failed to load interface for `Control.Appldaicative'<br/>Perhaps you meant Control.Applicative (from base)<br/></span>"
       ],
       "metadata": {},
       "output_type": "display_data"
      }
     ],
     "prompt_number": 2
    },
    {
     "cell_type": "code",
     "collapsed": false,
     "input": [
      "import Control.Monad\n",
      "forM [1, 2, 3, 4] $ \\x -> do\n",
      "  print (x * x)\n",
      "  return (-x)"
     ],
     "language": "python",
     "metadata": {},
     "outputs": [
      {
       "metadata": {},
       "output_type": "pyout",
       "prompt_number": 3,
       "text": [
        "1\n",
        "4\n",
        "9\n",
        "16\n",
        "[-1,-2,-3,-4]\n"
       ]
      },
      {
       "metadata": {},
       "output_type": "display_data"
      }
     ],
     "prompt_number": 3
    },
    {
     "cell_type": "code",
     "collapsed": false,
     "input": [
      "import Lkjadflkjad\n",
      "import Alksjdfljksd"
     ],
     "language": "python",
     "metadata": {},
     "outputs": [
      {
       "html": [
        "<span style='color: red; font-style: italic;'>Failed to load interface for `Lkjadflkjad'<br/></span>"
       ],
       "metadata": {},
       "output_type": "display_data"
      }
     ],
     "prompt_number": 4
    },
    {
     "cell_type": "code",
     "collapsed": false,
     "input": [
      "abc\n",
      "adsf"
     ],
     "language": "python",
     "metadata": {},
     "outputs": [
      {
       "html": [
        "<span style='color: red; font-style: italic;'>Not in scope: `abc'<br/>Perhaps you meant `abs' (imported from Prelude)<br/></span>"
       ],
       "metadata": {},
       "output_type": "display_data"
      }
     ],
     "prompt_number": 5
    },
    {
     "cell_type": "code",
     "collapsed": false,
     "input": [
      "doubleIt :: Int -> String\n",
      "doubleIt = show"
     ],
     "language": "python",
     "metadata": {},
     "outputs": [
      {
       "metadata": {},
       "output_type": "pyout",
       "prompt_number": 6,
       "text": []
      },
      {
       "metadata": {},
       "output_type": "display_data"
      }
     ],
     "prompt_number": 6
    },
    {
     "cell_type": "code",
     "collapsed": false,
     "input": [
      "f 3 = 2\n",
      "f 2 = 3"
     ],
     "language": "python",
     "metadata": {},
     "outputs": [
      {
       "metadata": {},
       "output_type": "pyout",
       "prompt_number": 7,
       "text": []
      },
      {
       "metadata": {},
       "output_type": "display_data"
      }
     ],
     "prompt_number": 7
    },
    {
     "cell_type": "code",
     "collapsed": false,
     "input": [
      "f 2"
     ],
     "language": "python",
     "metadata": {},
     "outputs": [
      {
       "metadata": {},
       "output_type": "pyout",
       "prompt_number": 8,
       "text": [
        "3\n"
       ]
      },
      {
       "metadata": {},
       "output_type": "display_data"
      }
     ],
     "prompt_number": 8
    },
    {
     "cell_type": "code",
     "collapsed": false,
     "input": [
      "it11"
     ],
     "language": "python",
     "metadata": {},
     "outputs": [
      {
       "html": [
        "<span style='color: red; font-style: italic;'>Not in scope: `it11'<br/>Perhaps you meant one of these:<br/>  `it1' (line 1), `it10' (line 1), `it12' (line 1)<br/></span>"
       ],
       "metadata": {},
       "output_type": "display_data"
      }
     ],
     "prompt_number": 13
    },
    {
     "cell_type": "code",
     "collapsed": false,
     "input": [
      "1+1"
     ],
     "language": "python",
     "metadata": {},
     "outputs": [
      {
       "metadata": {},
       "output_type": "pyout",
       "prompt_number": 9,
       "text": [
        "2\n"
       ]
      },
      {
       "metadata": {},
       "output_type": "display_data"
      }
     ],
     "prompt_number": 9
    },
    {
     "cell_type": "code",
     "collapsed": false,
     "input": [
      "data X = Y Int deriving Show"
     ],
     "language": "python",
     "metadata": {},
     "outputs": [
      {
       "metadata": {},
       "output_type": "pyout",
       "prompt_number": 10,
       "text": []
      },
      {
       "metadata": {},
       "output_type": "display_data"
      }
     ],
     "prompt_number": 10
    },
    {
     "cell_type": "code",
     "collapsed": false,
     "input": [
      "Y 3"
     ],
     "language": "python",
     "metadata": {},
     "outputs": [
      {
       "metadata": {},
       "output_type": "pyout",
       "prompt_number": 11,
       "text": [
        "Y 3\n"
       ]
      },
      {
       "metadata": {},
       "output_type": "display_data"
      }
     ],
     "prompt_number": 11
    },
    {
     "cell_type": "code",
     "collapsed": false,
     "input": [
      "test [] = 10"
     ],
     "language": "python",
     "metadata": {},
     "outputs": [
      {
       "metadata": {},
       "output_type": "pyout",
       "prompt_number": 12,
       "text": []
      },
      {
       "metadata": {},
       "output_type": "display_data"
      }
     ],
     "prompt_number": 12
    },
    {
     "cell_type": "code",
     "collapsed": false,
     "input": [
      "test [3]"
     ],
     "language": "python",
     "metadata": {},
     "outputs": [
      {
       "html": [
        "<span style='color: red; font-style: italic;'><interactive>:1:1-12: Non-exhaustive patterns in function test<br/></span>"
       ],
       "metadata": {},
       "output_type": "display_data"
      }
     ],
     "prompt_number": 13
    },
    {
     "cell_type": "code",
     "collapsed": false,
     "input": [
      "h"
     ],
     "language": "python",
     "metadata": {},
     "outputs": []
    }
   ],
   "metadata": {}
  }
 ]
}