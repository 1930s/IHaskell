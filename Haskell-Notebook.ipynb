{
 "metadata": {
  "language": "haskell",
  "name": ""
 },
 "nbformat": 3,
 "nbformat_minor": 0,
 "worksheets": [
  {
   "cells": [
    {
     "cell_type": "code",
     "collapsed": false,
     "input": [
      "data Value = X Int\n",
      "           | Y String\n",
      "           | Z Float\n",
      "           deriving Show\n",
      "            \n",
      "let values = [X 20,\n",
      "              Y \"Test\",\n",
      "              Z 0.5]\n",
      "mapM_ print values"
     ],
     "language": "python",
     "metadata": {},
     "outputs": [
      {
       "metadata": {},
       "output_type": "pyout",
       "prompt_number": 1,
       "text": [
        "X 20\n",
        "Y \"Test\"\n",
        "Z 0.5\n"
       ]
      },
      {
       "metadata": {},
       "output_type": "display_data"
      }
     ],
     "prompt_number": 1
    },
    {
     "cell_type": "code",
     "collapsed": false,
     "input": [
      "import Control.Applicative\n",
      "print\n",
      "print $ (+) <$> Just 3 <*> Just 10"
     ],
     "language": "python",
     "metadata": {},
     "outputs": [
      {
       "ename": "SyntaxError",
       "evalue": "invalid syntax (<ipython-input-2-ee999d0ba8c4>, line 3)",
       "output_type": "pyerr",
       "traceback": [
        "\u001b[0;36m  File \u001b[0;32m\"<ipython-input-2-ee999d0ba8c4>\"\u001b[0;36m, line \u001b[0;32m3\u001b[0m\n\u001b[0;31m    print $ (+) <$> Just 3 <*> Just 10\u001b[0m\n\u001b[0m          ^\u001b[0m\n\u001b[0;31mSyntaxError\u001b[0m\u001b[0;31m:\u001b[0m invalid syntax\n"
       ]
      }
     ],
     "prompt_number": 2
    },
    {
     "cell_type": "code",
     "collapsed": false,
     "input": [
      "import Control.Monad\n",
      "forM [1, 2, 3, 4] $ \\x -> do\n",
      "  print (x * x)\n",
      "  return (-x)"
     ],
     "language": "python",
     "metadata": {},
     "outputs": [
      {
       "metadata": {},
       "output_type": "pyout",
       "prompt_number": 1,
       "text": [
        "1\n",
        "4\n",
        "9\n",
        "16\n",
        "[-1,-2,-3,-4]\n"
       ]
      },
      {
       "metadata": {},
       "output_type": "display_data"
      }
     ],
     "prompt_number": 1
    },
    {
     "cell_type": "code",
     "collapsed": false,
     "input": [
      "map "
     ],
     "language": "python",
     "metadata": {},
     "outputs": [
      {
       "html": [
        "<span style='color: red; font-style: italic;'>No instance for (GHC.Show.Show ((a0 -> b0) -> [a0] -> [b0]))<br/>  arising from a use of `System.IO.print'<br/>Possible fix:<br/>  add an instance declaration for<br/>  (GHC.Show.Show ((a0 -> b0) -> [a0] -> [b0]))<br/></span>"
       ],
       "metadata": {},
       "output_type": "display_data"
      }
     ],
     "prompt_number": 2
    },
    {
     "cell_type": "code",
     "collapsed": false,
     "input": [
      "abc"
     ],
     "language": "python",
     "metadata": {},
     "outputs": [
      {
       "metadata": {},
       "output_type": "pyout",
       "prompt_number": 3,
       "text": []
      },
      {
       "html": [
        "<span style='color: red; font-style: italic;'>Not in scope: `abc'\n",
        "Perhaps you meant `abs' (imported from Prelude)\n",
        "</span>"
       ],
       "metadata": {},
       "output_type": "display_data"
      }
     ],
     "prompt_number": 3
    },
    {
     "cell_type": "code",
     "collapsed": false,
     "input": [],
     "language": "python",
     "metadata": {},
     "outputs": []
    }
   ],
   "metadata": {}
  }
 ]
}