{
 "cells": [
  {
   "cell_type": "markdown",
   "metadata": {},
   "source": [
    "## The `Bool` Widgets\n",
    "\n",
    "+ CheckBox\n",
    "+ ToggleButton"
   ]
  },
  {
   "cell_type": "markdown",
   "metadata": {},
   "source": [
    "These widgets can be used to represent a Boolean value. The idea is pretty simple, the widget can be in one of two states which represent the two boolean values.\n",
    "\n",
    "    Checked / On : True\n",
    "    Unchecked / Off : False"
   ]
  },
  {
   "cell_type": "code",
   "execution_count": 1,
   "metadata": {
    "collapsed": true
   },
   "outputs": [],
   "source": [
    "{-# LANGUAGE OverloadedStrings #-}\n",
    "import IHaskell.Display.Widgets\n",
    "import Data.Text (pack, unpack)\n",
    "import Text.Printf (printf)"
   ]
  },
  {
   "cell_type": "markdown",
   "metadata": {},
   "source": [
    "### Simple demonstration"
   ]
  },
  {
   "cell_type": "code",
   "execution_count": 2,
   "metadata": {
    "collapsed": false
   },
   "outputs": [],
   "source": [
    "-- Constructors\n",
    "chk <- mkCheckBox\n",
    "tgb <- mkToggleButton\n",
    "\n",
    "-- For demonstration\n",
    "o <- mkHTMLWidget"
   ]
  },
  {
   "cell_type": "markdown",
   "metadata": {},
   "source": [
    "Below, we represent one boolean using a checkbox, and the other using a toggle button. The logical and (`&&`) of the two is displayed below."
   ]
  },
  {
   "cell_type": "code",
   "execution_count": 3,
   "metadata": {
    "collapsed": false
   },
   "outputs": [
    {
     "data": {},
     "metadata": {},
     "output_type": "display_data"
    },
    {
     "data": {},
     "metadata": {},
     "output_type": "display_data"
    },
    {
     "data": {},
     "metadata": {},
     "output_type": "display_data"
    },
    {
     "data": {},
     "metadata": {},
     "output_type": "display_data"
    },
    {
     "data": {},
     "metadata": {},
     "output_type": "display_data"
    },
    {
     "data": {},
     "metadata": {},
     "output_type": "display_data"
    },
    {
     "data": {},
     "metadata": {},
     "output_type": "display_data"
    },
    {
     "data": {},
     "metadata": {},
     "output_type": "display_data"
    }
   ],
   "source": [
    "-- Display\n",
    "chk\n",
    "tgb\n",
    "o"
   ]
  },
  {
   "cell_type": "markdown",
   "metadata": {},
   "source": [
    "The `BoolValue` field represents the underlying boolean value."
   ]
  },
  {
   "cell_type": "code",
   "execution_count": 4,
   "metadata": {
    "collapsed": false
   },
   "outputs": [
    {
     "data": {
      "text/plain": []
     },
     "metadata": {},
     "output_type": "display_data"
    }
   ],
   "source": [
    "setField chk SDescription \"Bool 1: \"\n",
    "setField tgb SDescription \"Bool 2\"\n",
    "\n",
    "-- Helper function\n",
    "refresh b =\n",
    "  let stat = if b then \"green\" else \"red\"\n",
    "      fmt = \"<div style=\\\"background:%s;color:#ffffff\\\"><b>%s</b></div>\"\n",
    "  in setField o SStringValue $ pack $ printf fmt stat (show b)\n",
    "\n",
    " -- Cosmetic changes\n",
    "setField o SDescription \"Bool 1 && Bool 2\"\n",
    "setField o SPadding 10\n",
    "\n",
    " -- And (&&) the two values, and send output to html widget\n",
    "setHandler w = setField w SChangeHandler $ do\n",
    "  b1 <- getField chk SBoolValue\n",
    "  b2 <- getField tgb SBoolValue\n",
    "  refresh (b1 && b2)\n",
    "\n",
    "setHandler chk\n",
    "setHandler tgb"
   ]
  },
  {
   "cell_type": "markdown",
   "metadata": {},
   "source": [
    "### Extended example"
   ]
  },
  {
   "cell_type": "markdown",
   "metadata": {},
   "source": [
    "Let's try to create a graphical 8-bit-binary to decimal converter. We'll represent seven bits using `ToggleButton` widgets, and the negative bit using a `CheckBox`. The binary number is represented using 1+7-bit sign-and-magnitude representation for simplicity.\n",
    "\n",
    "Boxes are used to layout the widgets in an appealing manner, and the output widget is used to display the result."
   ]
  },
  {
   "cell_type": "code",
   "execution_count": 5,
   "metadata": {
    "collapsed": false
   },
   "outputs": [],
   "source": [
    "-- First, some library functions\n",
    "import Control.Monad (replicateM, forM_)\n",
    "import Data.IORef\n",
    "import IHaskell.Display (plain)"
   ]
  },
  {
   "cell_type": "markdown",
   "metadata": {},
   "source": [
    "Now, we create a `CheckBox` and seven `ToggleButton`s."
   ]
  },
  {
   "cell_type": "code",
   "execution_count": 6,
   "metadata": {
    "collapsed": false
   },
   "outputs": [
    {
     "data": {
      "text/plain": []
     },
     "metadata": {},
     "output_type": "display_data"
    }
   ],
   "source": [
    "sign <- mkCheckBox\n",
    "bits <- replicateM 7 mkToggleButton\n",
    "\n",
    "setField sign SDescription \"Negative\"\n",
    "forM_ bits $ \\t -> do\n",
    "  setField t SButtonStyle PrimaryButton\n",
    "  setField t SBorderRadius 20"
   ]
  },
  {
   "cell_type": "markdown",
   "metadata": {},
   "source": [
    "Then we create a `FlexBox` to hold the widgets, and an `HTMLWidget` to display the output."
   ]
  },
  {
   "cell_type": "code",
   "execution_count": 7,
   "metadata": {
    "collapsed": false
   },
   "outputs": [
    {
     "data": {
      "text/plain": []
     },
     "metadata": {},
     "output_type": "display_data"
    },
    {
     "data": {},
     "metadata": {},
     "output_type": "display_data"
    },
    {
     "data": {},
     "metadata": {},
     "output_type": "display_data"
    },
    {
     "data": {},
     "metadata": {},
     "output_type": "display_data"
    },
    {
     "data": {},
     "metadata": {},
     "output_type": "display_data"
    },
    {
     "data": {},
     "metadata": {},
     "output_type": "display_data"
    },
    {
     "data": {},
     "metadata": {},
     "output_type": "display_data"
    },
    {
     "data": {},
     "metadata": {},
     "output_type": "display_data"
    },
    {
     "data": {},
     "metadata": {},
     "output_type": "display_data"
    },
    {
     "data": {},
     "metadata": {},
     "output_type": "display_data"
    },
    {
     "data": {},
     "metadata": {},
     "output_type": "display_data"
    },
    {
     "data": {},
     "metadata": {},
     "output_type": "display_data"
    },
    {
     "data": {},
     "metadata": {},
     "output_type": "display_data"
    },
    {
     "data": {},
     "metadata": {},
     "output_type": "display_data"
    },
    {
     "data": {},
     "metadata": {},
     "output_type": "display_data"
    },
    {
     "data": {},
     "metadata": {},
     "output_type": "display_data"
    },
    {
     "data": {},
     "metadata": {},
     "output_type": "display_data"
    },
    {
     "data": {},
     "metadata": {},
     "output_type": "display_data"
    },
    {
     "data": {},
     "metadata": {},
     "output_type": "display_data"
    },
    {
     "data": {},
     "metadata": {},
     "output_type": "display_data"
    },
    {
     "data": {},
     "metadata": {},
     "output_type": "display_data"
    },
    {
     "data": {},
     "metadata": {},
     "output_type": "display_data"
    },
    {
     "data": {},
     "metadata": {},
     "output_type": "display_data"
    }
   ],
   "source": [
    "box <- mkFlexBox\n",
    "out <- mkHTMLWidget\n",
    "\n",
    "-- Sub-containers\n",
    "box1 <- mkFlexBox\n",
    "setField box1 SChildren [ChildWidget sign, ChildWidget out]\n",
    "box2 <- mkFlexBox\n",
    "setField box2 SChildren (map ChildWidget $ reverse bits)\n",
    "\n",
    "-- Add widgets to the container\n",
    "setField box SChildren (map ChildWidget [box1, box2])\n",
    "setField box SOrientation VerticalOrientation\n",
    "\n",
    "-- Add some UI chrome\n",
    "setField box SBoxStyle InfoBox\n",
    "setField box SBorderRadius 20\n",
    "setField out SBorderStyle GrooveBorder\n",
    "setField out SBorderRadius 20\n",
    "setField out SBorderWidth 4\n",
    "setField out SWidth 100\n",
    "setField out SHeight 30\n",
    "setField out SMargin 10\n",
    "setField sign SPadding 10\n",
    "setField box2 SPadding 10\n",
    "setField box2 SPack BaselineLocation\n",
    "\n",
    "-- Display the container\n",
    "box"
   ]
  },
  {
   "cell_type": "markdown",
   "metadata": {},
   "source": [
    "Now, we implement the logic of our converter, and make it send the output to the `HTMLWidget` we created above."
   ]
  },
  {
   "cell_type": "code",
   "execution_count": 8,
   "metadata": {
    "collapsed": false
   },
   "outputs": [
    {
     "data": {
      "text/plain": []
     },
     "metadata": {},
     "output_type": "display_data"
    }
   ],
   "source": [
    "import Control.Arrow (first, second)\n",
    "\n",
    "-- Mutable value, with a sign bit\n",
    "val <- newIORef (0 :: Int, False)\n",
    "\n",
    "-- Helper function to redraw output\n",
    "refresh :: (Int, Bool) -> IO ()\n",
    "refresh (x, b) = \n",
    "  let val = x * if b then (-1) else 1\n",
    "      fmt = \"<div align=\\\"center\\\"><b>%d</b></div>\"\n",
    "  in setField out SStringValue (pack $ printf fmt val)\n",
    "\n",
    "setField sign SChangeHandler $ do\n",
    "  -- Change sign for value\n",
    "  modifyIORef val (second not)\n",
    "  -- Redraw output\n",
    "  readIORef val >>= refresh\n",
    "\n",
    "forM_ (zip bits (iterate (*2) 1)) $ \\(t, n) -> do\n",
    "  setField t SDescription \"0\"\n",
    "  setField t SChangeHandler $ do\n",
    "    f <- getField t SBoolValue\n",
    "    setField t SDescription (if f then \"1\" else \"0\")\n",
    "    modifyIORef val (first $ if f then (+n) else (\\x->x-n))\n",
    "    readIORef val >>= refresh"
   ]
  }
 ],
 "metadata": {
  "kernelspec": {
   "display_name": "Haskell",
   "language": "haskell",
   "name": "haskell"
  }
 },
 "nbformat": 4,
 "nbformat_minor": 0
}
