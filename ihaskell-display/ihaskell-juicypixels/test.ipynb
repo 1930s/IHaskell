{
 "metadata": {
  "language": "haskell",
  "name": "",
  "signature": "sha256:b9b36c162e37a16b252cd1f06e4c2991e0a80710e7fc184be82dd6b18e6dcf01"
 },
 "nbformat": 3,
 "nbformat_minor": 0,
 "worksheets": [
  {
   "cells": [
    {
     "cell_type": "code",
     "collapsed": false,
     "input": [
      "{-# LANGUAGE NoImplicitPrelude, TypeSynonymInstances, FlexibleInstances  #-}\n",
      "\n",
      "import IHaskell.Display.Juicypixels\n",
      "   \n",
      "myImage = generateImage pixelRenderer 250 300\n",
      "    where pixelRenderer x y = PixelRGB8 (fromIntegral x) (fromIntegral y) 128\n",
      "    \n",
      "myImage    "
     ],
     "language": "python",
     "metadata": {},
     "outputs": [],
     "prompt_number": 8
    },
    {
     "cell_type": "code",
     "collapsed": false,
     "input": [],
     "language": "python",
     "metadata": {},
     "outputs": []
    }
   ],
   "metadata": {}
  }
 ]
}