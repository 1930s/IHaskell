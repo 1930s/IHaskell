{
 "metadata": {
  "language": "haskell",
  "name": "",
  "signature": "sha256:4e6bcbbfc6ee4ce826db059d59ae14ee9ce3272aa41ef63bd6da02117e6c6410"
 },
 "nbformat": 3,
 "nbformat_minor": 0,
 "worksheets": [
  {
   "cells": [
    {
     "cell_type": "code",
     "collapsed": false,
     "input": [
      ":ext OverloadedStrings\n",
      "import qualified Data.ByteString as B\n",
      "\n",
      "import Graphics.Rendering.Chart\n",
      "import Data.Default.Class\n",
      "import Control.Lens\n",
      "import Graphics.Rendering.Chart.Backend.Cairo\n",
      "import IHaskell.Display\n",
      "\n",
      "import Data.Colour\n",
      "import Data.Colour.Names\n",
      "\n",
      "\n",
      "xvals = [1.5, 2.5, 5, 8 :: Double ]\n",
      "yvals = [0.025, 0.1, 9, 230 :: Double ]\n",
      "\n",
      "xlvals = map LogValue xvals\n",
      "ylvals = map LogValue yvals\n",
      "\n",
      "-- | Connect the points (xs,ys) with a solid\n",
      "--   line using the given color.\n",
      "lineXY :: (PlotValue a, PlotValue b) => Colour Double -> [a] -> [b] -> Plot a b\n",
      "lineXY col xs ys = toPlot p\n",
      "    where\n",
      "        p = plot_lines_style .~ solidLine 1 (opaque col)\n",
      "            $ plot_lines_values .~ [zip xs ys]\n",
      "            $ def\n",
      "\n",
      "-- | Draw symbols at the points (xs,ys).\n",
      "--\n",
      "symbolXY ::\n",
      "    (PlotValue a, PlotValue b) =>\n",
      "    (AlphaColour Double -> PointStyle)\n",
      "    -> Colour Double \n",
      "    -> [a] \n",
      "    -> [b] \n",
      "    -> Plot a b\n",
      "symbolXY sym col xs ys = toPlot p\n",
      "    where\n",
      "        p = plot_points_style .~ sym (opaque col)\n",
      "            $ plot_points_values .~ zip xs ys\n",
      "            $ def\n",
      "\n",
      "asCircle = filledCircles 10\n",
      "asStar = stars 10 2\n",
      "\n",
      "-- | This function will plot the given function of x over the list of xs.\n",
      "plotIt :: \n",
      "  (PlotValue a, PlotValue b) =>\n",
      "  (Colour Double -> [a] -> [b] -> Plot a b)\n",
      "  -> [a]\n",
      "  -> [b]\n",
      "  -> Renderable ()\n",
      "\n",
      "plotIt plotType xs ys = toRenderable l\n",
      "    where\n",
      "        l = layout_title .~ \"Plot\"\n",
      "            $ layout_plots .~ [ plotType blue xs ys ]\n",
      "            $ def\n",
      "\n",
      "r = plotIt (symbolXY asCircle) xvals yvals\n",
      "\n",
      "rp = do\n",
      "  printDisplay r\n",
      "  return 3"
     ],
     "language": "python",
     "metadata": {},
     "outputs": [],
     "prompt_number": 2
    },
    {
     "cell_type": "code",
     "collapsed": false,
     "input": [
      "-- We can draw diagrams, right in the notebook.\n",
      ":extension NoMonomorphismRestriction\n",
      "import Diagrams.Prelude\n",
      "\n",
      "-- By Brent Yorgey\n",
      "-- Draw a Sierpinski triangle!\n",
      "sierpinski 1 = eqTriangle 1\n",
      "sierpinski n =     s\n",
      "                  ===\n",
      "               (s ||| s) # centerX\n",
      "  where s = sierpinski (n-1)\n",
      "\n",
      "-- The `diagram` function is used to display them in the notebook.\n",
      "diagram $ sierpinski 4\n",
      "            # centerXY\n",
      "            # fc black\n",
      "          `atop` square 10\n",
      "                   # fc white"
     ],
     "language": "python",
     "metadata": {},
     "outputs": []
    },
    {
     "cell_type": "code",
     "collapsed": false,
     "input": [
      ":set -XQuasiQuotes -XTupleSections -XViewPatterns\n",
      "import IHaskell.Display -- shouldn't be needed but it turns out that it is essential\n",
      "import IHaskell.Display.Rlangqq () -- to check it's installed\n",
      "import Data.Monoid\n",
      "import Control.Applicative\n",
      "import Data.List\n",
      "\n",
      "sse <- do\n",
      " [pun| (sse) |] <- [rDisp|\n",
      "    m <- lm( log($(xs) / (exp(1)-1)) ~ I(1:length($(xs))))\n",
      "    plot(m, which=1:2)\n",
      "    print(predict(m))\n",
      "    hs_sse <- sum( resid(m)^2 )\n",
      "    |]\n",
      " return (sse :: Double)\n",
      "() -- needed to force a display"
     ],
     "language": "python",
     "metadata": {},
     "outputs": [
      {
       "html": [
        "<span class='err-msg'>Exception when trying to run compile-time code:<br/>  fd:46: hClose: resource vanished (Broken pipe)<br/>  Code: Language.Haskell.TH.Quote.quoteExp<br/>          rDisp<br/>          \"\\<br/>          \\    m <- lm( log(<span>$</span>(xs) / (exp(1)-1)) ~ I(1:length(<span>$</span>(xs))))\\<br/>          \\    plot(m, which=1:2)\\<br/>          \\    print(predict(m))\\<br/>          \\    hs_sse <- sum( resid(m)^2 )\\<br/>          \\    \"</span>"
       ],
       "metadata": {},
       "output_type": "display_data",
       "text": [
        "Exception when trying to run compile-time code:\n",
        "  fd:46: hClose: resource vanished (Broken pipe)\n",
        "  Code: Language.Haskell.TH.Quote.quoteExp\n",
        "          rDisp\n",
        "          \"\\\n",
        "          \\    m <- lm( log($(xs) / (exp(1)-1)) ~ I(1:length($(xs))))\\\n",
        "          \\    plot(m, which=1:2)\\\n",
        "          \\    print(predict(m))\\\n",
        "          \\    hs_sse <- sum( resid(m)^2 )\\\n",
        "          \\    \""
       ]
      }
     ],
     "prompt_number": 2
    },
    {
     "cell_type": "code",
     "collapsed": false,
     "input": [
      ":ext OverloadedStrings\n",
      "putStrLn \"\u00fc\""
     ],
     "language": "python",
     "metadata": {},
     "outputs": [
      {
       "metadata": {},
       "output_type": "display_data",
       "text": [
        "\u00c3\u00bc"
       ]
      }
     ],
     "prompt_number": 1
    },
    {
     "cell_type": "code",
     "collapsed": false,
     "input": [],
     "language": "python",
     "metadata": {},
     "outputs": []
    }
   ],
   "metadata": {}
  }
 ]
}