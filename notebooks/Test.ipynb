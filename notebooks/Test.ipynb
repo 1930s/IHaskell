{
 "metadata": {
  "language": "haskell",
  "name": "",
  "signature": "sha256:4e6bcbbfc6ee4ce826db059d59ae14ee9ce3272aa41ef63bd6da02117e6c6410"
 },
 "nbformat": 3,
 "nbformat_minor": 0,
 "worksheets": [
  {
   "cells": [
    {
     "cell_type": "code",
     "collapsed": false,
     "input": [
      "import Text.Parsec\n",
      "import Text.Parsec.String\n",
      "import Text.Parsec.Prim\n",
      "import Text.Parsec.Char\n",
      "\n",
      "oneOf \"Hello\"C :: Parser Char"
     ],
     "language": "python",
     "metadata": {},
     "outputs": [
      {
       "html": [
        "\n",
        "        <form><textarea id=\"text79438521894\">Hello!</textarea></form>\n",
        "        <script>\n",
        "          var textarea = document.getElementById(\"text79438521894\");\n",
        "          var editor = CodeMirror.fromTextArea(textarea);\n",
        "          editor.on(\"change\", function() {\n",
        "            var text = editor.getDoc().getValue();\n",
        "            console.log(\"New text: \" + text);\n",
        "          });\n",
        "        </script>\n",
        "        "
       ],
       "metadata": {},
       "output_type": "display_data"
      }
     ],
     "prompt_number": 2
    },
    {
     "cell_type": "code",
     "collapsed": false,
     "input": [
      "x <- display (oneOf \"Hello\" :: Parser Char)"
     ],
     "language": "python",
     "metadata": {},
     "outputs": [],
     "prompt_number": 2
    },
    {
     "cell_type": "code",
     "collapsed": false,
     "input": [
      "case x of \n",
      "  Display [DisplayData MimeHtml dat] -> putStrLn $ unpack dat\n",
      "  _ -> error \"no\""
     ],
     "language": "python",
     "metadata": {},
     "outputs": [
      {
       "html": [
        "<span class='err-msg'>Not in scope: data constructor `MimeHtml'<br/><br/><br/>Not in scope: `unpack'</span>"
       ],
       "metadata": {},
       "output_type": "display_data",
       "text": [
        "Not in scope: data constructor `MimeHtml'\n",
        "\n",
        "\n",
        "Not in scope: `unpack'"
       ]
      }
     ],
     "prompt_number": 3
    },
    {
     "cell_type": "code",
     "collapsed": false,
     "input": [
      "import IHaskell.Types"
     ],
     "language": "python",
     "metadata": {},
     "outputs": [],
     "prompt_number": 4
    },
    {
     "cell_type": "code",
     "collapsed": false,
     "input": [
      "import ClassyPrelude (unpack)"
     ],
     "language": "python",
     "metadata": {},
     "outputs": [],
     "prompt_number": 5
    },
    {
     "cell_type": "code",
     "collapsed": false,
     "input": [
      "x"
     ],
     "language": "python",
     "metadata": {},
     "outputs": [
      {
       "html": [
        "\n",
        "        <form><textarea id=\"text33712347157\">Hello!</textarea></form>\n",
        "        <script>\n",
        "          var textarea = document.getElementById(\"text33712347157\");\n",
        "          var editor = CodeMirror.fromTextArea(textarea);\n",
        "          editor.on(\"change\", function() {\n",
        "            var text = editor.textContent;\n",
        "            console.log(\"New text: \" + text);\n",
        "          });\n",
        "        </script>\n",
        "        "
       ],
       "metadata": {},
       "output_type": "display_data"
      }
     ],
     "prompt_number": 4
    },
    {
     "cell_type": "code",
     "collapsed": false,
     "input": [],
     "language": "python",
     "metadata": {},
     "outputs": []
    }
   ],
   "metadata": {}
  }
 ]
}