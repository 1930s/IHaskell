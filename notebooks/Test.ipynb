{
 "metadata": {
  "celltoolbar": "Hiding",
  "language": "haskell",
  "name": "",
  "signature": "sha256:15cf13f0b51aedf4b16cbd0be35d8f1f0e7cca10ef18411c270d26f993eda4a7"
 },
 "nbformat": 3,
 "nbformat_minor": 0,
 "worksheets": [
  {
   "cells": [
    {
     "cell_type": "code",
     "collapsed": false,
     "input": [
      "import IHaskell.Display\n",
      "\n",
      "-- My widget type\n",
      "data Slider = Slider\n",
      "\n",
      "instance IHaskellDisplay Slider where\n",
      "  display Slider = return $ Display []\n",
      "  \n",
      "instance IHaskellWidget Slider where\n",
      "  targetName _ = \"WidgetModel\"\n",
      "  open _ s = s undefined >> error \"what\"\n",
      "  "
     ],
     "language": "python",
     "metadata": {},
     "outputs": [],
     "prompt_number": 1
    },
    {
     "cell_type": "code",
     "collapsed": false,
     "input": [
      "infixl 3 <<>>\n",
      "a <<>> 1 = a + 1\n",
      "a <<>> 3 = a - 1\n",
      "(<<>>) a b = a * 3\n",
      "\n",
      "f :: Int -> Int\n",
      "f x = x + x\n",
      "\n",
      "f 3 <<>> f 3\n",
      "\n",
      "f :: Int -> Int\n",
      "f x = x + x"
     ],
     "language": "python",
     "metadata": {
      "hidden": false
     },
     "outputs": []
    },
    {
     "cell_type": "code",
     "collapsed": false,
     "input": [
      "import Text.Parsec\n",
      "import Text.Parsec.String\n",
      "import Text.Parsec.Prim\n",
      "import Text.Parsec.Char\n",
      "\n",
      "data List = List [Float] deriving Show\n",
      "\n",
      "let -- Parse a nonempty int list like [1, 2, 3]\n",
      "    parser :: Parser List\n",
      "    parser = do\n",
      "      char '['\n",
      "      values <- option [] $ many1 (try float <|> int)\n",
      "      char ']'\n",
      "      return $ List values\n",
      "      \n",
      "    -- Parse an element of an int list,  like \"3, \"\n",
      "    int :: Parser Float\n",
      "    int = do\n",
      "      value <- many1 $ oneOf \"0123456789\"\n",
      "      optional $ char ','\n",
      "      whitespace\n",
      "      return (fromIntegral (read value :: Int) :: Float)\n",
      "      \n",
      "    float :: Parser Float\n",
      "    float = do\n",
      "      value <- many1 $ oneOf \"0123456789\"\n",
      "      char '.'\n",
      "      after <- many1 $ oneOf \"0123456789\"\n",
      "      optional $ char ','\n",
      "      whitespace\n",
      "      return (read (value ++ \".\" ++ after) :: Float)\n",
      "      \n",
      "    -- Parse any whitespace\n",
      "    whitespace = many $ oneOf \" \\t\"\n",
      "    \n",
      "parser"
     ],
     "language": "python",
     "metadata": {},
     "outputs": [
      {
       "html": [
        "<div class='collapse-group'><span class='btn' href='#' id='unshowable'>Unshowable:<span class='show-type'>Parser List</span></span><span class='err-msg collapse'>No instance for (Show (Parser List)) arising from a use of `print'<br/>Possible fix: add an instance declaration for (Show (Parser List))<br/>In a stmt of an interactive GHCi command: print it</span></div><script>$('#unshowable').on('click', function(e) {\n",
        "    e.preventDefault();\n",
        "    var $this = $(this);\n",
        "    var $collapse = $this.closest('.collapse-group').find('.err-msg');\n",
        "    $collapse.collapse('toggle');\n",
        "});\n",
        "</script>"
       ],
       "metadata": {},
       "output_type": "display_data",
       "text": [
        "No instance for (Show (Parser List)) arising from a use of `print'\n",
        "Possible fix: add an instance declaration for (Show (Parser List))\n",
        "In a stmt of an interactive GHCi command: print it"
       ]
      }
     ],
     "prompt_number": 1
    },
    {
     "cell_type": "code",
     "collapsed": false,
     "input": [],
     "language": "python",
     "metadata": {},
     "outputs": []
    }
   ],
   "metadata": {}
  }
 ]
}